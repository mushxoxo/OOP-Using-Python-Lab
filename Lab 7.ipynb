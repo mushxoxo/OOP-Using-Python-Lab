{
 "cells": [
  {
   "cell_type": "markdown",
   "metadata": {},
   "source": [
    "### 1. Basic Try-Except Example"
   ]
  },
  {
   "cell_type": "code",
   "execution_count": null,
   "metadata": {},
   "outputs": [],
   "source": [
    "try: \n",
    "    a = 10 \n",
    "    b = 0 \n",
    "    c = a / b \n",
    "    print(\"The answer of a divide by b:\", c) \n",
    "except: \n",
    "    print(\"Can't divide with zero. Provide a different number.\")\n"
   ]
  },
  {
   "cell_type": "markdown",
   "metadata": {},
   "source": [
    "### 2. Catching Specific Exceptions"
   ]
  },
  {
   "cell_type": "code",
   "execution_count": null,
   "metadata": {},
   "outputs": [],
   "source": [
    "try: \n",
    "    a = int(input(\"Enter value of a: \")) \n",
    "    b = int(input(\"Enter value of b: \")) \n",
    "    c = a / b \n",
    "    print(\"The answer of a divide by b:\", c) \n",
    "except ValueError: \n",
    "    print(\"Entered value is wrong.\") \n",
    "except ZeroDivisionError: \n",
    "    print(\"Can't divide by zero.\")\n"
   ]
  },
  {
   "cell_type": "markdown",
   "metadata": {
    "vscode": {
     "languageId": "plaintext"
    }
   },
   "source": [
    "### 3. Handle Multiple Exceptions with a Single Except Clause"
   ]
  },
  {
   "cell_type": "code",
   "execution_count": null,
   "metadata": {},
   "outputs": [],
   "source": [
    "try: \n",
    "    a = int(input(\"Enter value of a: \")) \n",
    "    b = int(input(\"Enter value of b: \")) \n",
    "    c = a / b \n",
    "    print(\"The answer of a divide by b:\", c)\n",
    "except (ValueError, ZeroDivisionError): \n",
    "    print(\"Please enter a valid value.\")\n"
   ]
  },
  {
   "cell_type": "markdown",
   "metadata": {
    "vscode": {
     "languageId": "plaintext"
    }
   },
   "source": [
    "### 4. Using Try with Finally"
   ]
  },
  {
   "cell_type": "code",
   "execution_count": null,
   "metadata": {},
   "outputs": [],
   "source": [
    "try: \n",
    "    a = int(input(\"Enter value of a: \")) \n",
    "    b = int(input(\"Enter value of b: \")) \n",
    "    c = a / b \n",
    "    print(\"The answer of a divide by b:\", c)\n",
    "except ZeroDivisionError: \n",
    "    print(\"Can't divide with zero.\") \n",
    "finally: \n",
    "    print(\"Inside a finally block.\")\n"
   ]
  },
  {
   "cell_type": "markdown",
   "metadata": {},
   "source": [
    "### 5. Using Try with Else Clause"
   ]
  },
  {
   "cell_type": "code",
   "execution_count": null,
   "metadata": {},
   "outputs": [],
   "source": [
    "try: \n",
    "    a = int(input(\"Enter value of a: \")) \n",
    "    b = int(input(\"Enter value of b: \")) \n",
    "    c = a / b \n",
    "    print(\"a/b =\", c) \n",
    "except ZeroDivisionError: \n",
    "    print(\"Can't divide by zero.\") \n",
    "else: \n",
    "    print(\"We are in the else block.\")\n"
   ]
  },
  {
   "cell_type": "markdown",
   "metadata": {},
   "source": [
    "### 6. Raising an Exception"
   ]
  },
  {
   "cell_type": "code",
   "execution_count": null,
   "metadata": {},
   "outputs": [],
   "source": [
    "def simple_interest(amount, year, rate): \n",
    "    try: \n",
    "        if rate > 100: \n",
    "            raise ValueError(rate) \n",
    "        interest = (amount * year * rate) / 100\n",
    "        print('The Simple Interest is', interest) \n",
    "        return interest \n",
    "    except ValueError: \n",
    "        print('Interest rate is out of range', rate)\n",
    "\n",
    "print('Case 1')\n",
    "simple_interest(800, 6, 8)\n",
    "print('Case 2')\n",
    "simple_interest(800, 6, 800)\n"
   ]
  },
  {
   "cell_type": "markdown",
   "metadata": {
    "vscode": {
     "languageId": "plaintext"
    }
   },
   "source": [
    "### 7. Exception Chaining"
   ]
  },
  {
   "cell_type": "code",
   "execution_count": null,
   "metadata": {},
   "outputs": [],
   "source": [
    "class Error(Exception): \n",
    "    pass\n",
    "\n",
    "class ValueTooSmallError(Error): \n",
    "    pass\n",
    "\n",
    "class ValueTooLargeError(Error): \n",
    "    pass\n",
    "\n",
    "while True:\n",
    "    try:\n",
    "        num = int(input(\"Enter any value in 10 to 50 range: \"))\n",
    "        if num < 10:\n",
    "            raise ValueTooSmallError\n",
    "        elif num > 50:\n",
    "            raise ValueTooLargeError\n",
    "        break\n",
    "    except ValueTooSmallError:\n",
    "        print(\"Value is below range..try again\")\n",
    "    except ValueTooLargeError:\n",
    "        print(\"Value out of range...try again\")\n",
    "\n",
    "print(\"Great! Value is in the correct range.\")\n"
   ]
  },
  {
   "cell_type": "markdown",
   "metadata": {},
   "source": [
    "### 8. Exception Life Cycle"
   ]
  },
  {
   "cell_type": "code",
   "execution_count": null,
   "metadata": {},
   "outputs": [],
   "source": [
    "def sum_of_list(numbers): \n",
    "    return sum(numbers)\n",
    "\n",
    "def average(sum, n): \n",
    "    return sum / n \n",
    "\n",
    "def final_data(data): \n",
    "    for item in data: \n",
    "        print(\"Average:\", average(sum_of_list(item), len(item)))\n",
    "\n",
    "list1 = [10, 20, 30, 40, 50] \n",
    "list2 = [100, 200, 300, 400, 500]\n",
    "list3 = [] \n",
    "lists = [list1, list2, list3]\n",
    "final_data(lists)\n"
   ]
  }
 ],
 "metadata": {
  "kernelspec": {
   "display_name": "Python 3",
   "language": "python",
   "name": "python3"
  },
  "language_info": {
   "name": "python",
   "version": "3.12.3"
  }
 },
 "nbformat": 4,
 "nbformat_minor": 2
}
