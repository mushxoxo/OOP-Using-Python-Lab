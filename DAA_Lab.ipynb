{
 "cells": [
  {
   "cell_type": "code",
   "execution_count": 15,
   "metadata": {},
   "outputs": [
    {
     "name": "stdout",
     "output_type": "stream",
     "text": [
      "[1, 2, 5, 7, 9]\n",
      "5\n",
      "Binary Search Recursive: 3\n",
      "Binary Search Iterative: 3\n",
      "Linear Search: 3\n",
      "[2, 4, 6, 8, 10]\n",
      "1\n",
      "Binary Search Recursive: -1\n",
      "Binary Search Iterative: -1\n",
      "Linear Search: -1\n",
      "[2, 4, 6, 8, 10]\n",
      "10\n",
      "Binary Search Recursive: 5\n",
      "Binary Search Iterative: 5\n",
      "Linear Search: 5\n",
      "[1, 3, 5, 7, 9]\n",
      "4\n",
      "Binary Search Recursive: -1\n",
      "Binary Search Iterative: -1\n",
      "Linear Search: -1\n"
     ]
    }
   ],
   "source": [
    "def binary_search_recursive(lst, low, high, key):\n",
    "    if low > high:\n",
    "        return -1\n",
    "    mid = (low + high) // 2\n",
    "    if lst[mid] == key:\n",
    "        return mid + 1\n",
    "    if lst[mid] < key:\n",
    "        return binary_search_recursive(lst, mid + 1, high, key)\n",
    "    return binary_search_recursive(lst, low, mid - 1, key)\n",
    "\n",
    "def binary_search_iterative(lst, low, high, key):\n",
    "    while low <= high:\n",
    "        mid = (low + high) // 2\n",
    "        if lst[mid] == key:\n",
    "            return mid + 1\n",
    "        if lst[mid] < key:\n",
    "            low = mid + 1\n",
    "        else:\n",
    "            high = mid - 1\n",
    "    return -1\n",
    "\n",
    "def linear_search(lst, key):\n",
    "    for i in range(len(lst)):\n",
    "        if lst[i] == key:\n",
    "            return i + 1\n",
    "    return -1\n",
    "\n",
    "for _ in range(int(input())):\n",
    "    lst = list(map(int, input().split()))\n",
    "    print(lst)\n",
    "    key = int(input())\n",
    "    print(key)\n",
    "    print(f\"Binary Search Recursive: {binary_search_recursive(lst, 0, len(lst) - 1, key)}\")\n",
    "    print(f\"Binary Search Iterative: {binary_search_iterative(lst, 0, len(lst) - 1, key)}\")\n",
    "    print(f\"Linear Search: {linear_search(lst, key)}\")"
   ]
  },
  {
   "cell_type": "code",
   "execution_count": 16,
   "metadata": {},
   "outputs": [
    {
     "name": "stdout",
     "output_type": "stream",
     "text": [
      "[20, 9, 64, 19]\n",
      "Selection sort: [9, 19, 20, 64]\n",
      "Insertion sort: [9, 19, 20, 64]\n",
      "[19]\n",
      "Selection sort: [19]\n",
      "Insertion sort: [19]\n",
      "[20, 12, 8]\n",
      "Selection sort: [8, 12, 20]\n",
      "Insertion sort: [8, 12, 20]\n",
      "[]\n",
      "Selection sort: []\n",
      "Insertion sort: []\n"
     ]
    }
   ],
   "source": [
    "def selection_sort(lst):\n",
    "    for i in range(len(lst)):\n",
    "        min_i = i\n",
    "        for j in range(i + 1, len(lst)):\n",
    "            if lst[j] < lst[min_i]:\n",
    "                min_i = j\n",
    "        lst[i], lst[min_i] = lst[min_i], lst[i]\n",
    "    return lst\n",
    "\n",
    "def insertion_sort(lst):\n",
    "    for i in range(1, len(lst)):\n",
    "        key = lst[i]\n",
    "        j = i - 1\n",
    "        while j >= 0 and key < lst[j]:\n",
    "            lst[j + 1] = lst[j]\n",
    "            j -= 1\n",
    "        lst[j + 1] = key\n",
    "    return lst\n",
    "\n",
    "for _ in range(int(input())):\n",
    "    lst = list(map(int, input().split()))\n",
    "    print(lst)\n",
    "    print(f\"Selection sort: {selection_sort(lst[:])}\")\n",
    "    print(f\"Insertion sort: {insertion_sort(lst[:])}\")\n"
   ]
  },
  {
   "cell_type": "code",
   "execution_count": 12,
   "metadata": {},
   "outputs": [
    {
     "name": "stdout",
     "output_type": "stream",
     "text": [
      "98 76 65 4 3 21\n",
      "Radix Sort: [3, 4, 21, 65, 76, 98]\n",
      "Bucket sort: [3, 4, 21, 65, 76, 98]\n",
      "12 233 13 87 45\n",
      "Radix Sort: [12, 13, 45, 87, 233]\n",
      "Bucket sort: [12, 13, 45, 87, 233]\n"
     ]
    }
   ],
   "source": [
    "def count_sort(lst, exp):\n",
    "    out = [0] * len(lst)\n",
    "    count = [0] * 10\n",
    "\n",
    "    for num in lst:\n",
    "        idx = (num//exp) % 10\n",
    "        count[idx] += 1\n",
    "\n",
    "    for i in range(1,10):\n",
    "        count[i] += count[i-1]\n",
    "\n",
    "    for i in range(len(lst) - 1, -1, -1):\n",
    "        idx = (lst[i] // exp) % 10\n",
    "        out[count[idx] - 1] = lst[i]\n",
    "        count[idx] -= 1\n",
    "\n",
    "    for i in range(len(lst)):\n",
    "        lst[i] = out[i]\n",
    "\n",
    "def radix_sort(lst):\n",
    "    max_val = max(lst)\n",
    "    exp = 1\n",
    "\n",
    "    while max_val // exp >0:\n",
    "        count_sort(lst, exp)\n",
    "        exp*=10\n",
    "    \n",
    "    return [num for num in lst]\n",
    "\n",
    "def bucket_sort(lst):\n",
    "    if len(lst)==0:\n",
    "        return lst\n",
    "\n",
    "    max_value = max(lst)\n",
    "    bucket_count = min(5, len(lst))\n",
    "    bucket_size = (max_value // bucket_count) + 1\n",
    "    buckets = [[] for _ in range(bucket_count)]\n",
    "\n",
    "    for num in lst:\n",
    "        index = min(num // bucket_size, bucket_count - 1)\n",
    "        buckets[index].append(num)\n",
    "\n",
    "    for bucket in buckets:\n",
    "        bucket.sort()\n",
    "\n",
    "    return [num for bucket in buckets for num in bucket]\n",
    "\n",
    "\n",
    "    \n",
    "\n",
    "for _ in range(int(input())):\n",
    "    lst = list(map(int, input().split()))\n",
    "    print(*lst)\n",
    "    print(f\"Radix Sort: {radix_sort(lst)}\")\n",
    "    print(f\"Bucket sort: {bucket_sort(lst)}\")"
   ]
  },
  {
   "cell_type": "code",
   "execution_count": 13,
   "metadata": {},
   "outputs": [
    {
     "name": "stdout",
     "output_type": "stream",
     "text": [
      "[23, 25, 32, 42, 47, 51, 52, 100, 150, 200]\n"
     ]
    }
   ],
   "source": [
    "def merge_sort(arr):\n",
    "    if len(arr) <= 1:\n",
    "        return arr\n",
    "\n",
    "    mid = len(arr) // 2\n",
    "    left = merge_sort(arr[:mid])\n",
    "    right = merge_sort(arr[mid:])\n",
    "\n",
    "    return merge(left, right)\n",
    "\n",
    "def merge(left, right):\n",
    "    result = []\n",
    "    i = j = 0\n",
    "\n",
    "    while i < len(left) and j < len(right):\n",
    "        if left[i] < right[j]:\n",
    "            result.append(left[i])\n",
    "            i += 1\n",
    "        else:\n",
    "            result.append(right[j])\n",
    "            j += 1\n",
    "\n",
    "    result.extend(left[i:])\n",
    "    result.extend(right[j:])\n",
    "    return result\n",
    "\n",
    "arr = [42, 32, 23, 52, 25, 47, 51, 100, 200, 150]\n",
    "sorted_arr = merge_sort(arr)\n",
    "print(sorted_arr)\n"
   ]
  }
 ],
 "metadata": {
  "kernelspec": {
   "display_name": "Python 3",
   "language": "python",
   "name": "python3"
  },
  "language_info": {
   "codemirror_mode": {
    "name": "ipython",
    "version": 3
   },
   "file_extension": ".py",
   "mimetype": "text/x-python",
   "name": "python",
   "nbconvert_exporter": "python",
   "pygments_lexer": "ipython3",
   "version": "3.12.3"
  }
 },
 "nbformat": 4,
 "nbformat_minor": 2
}
