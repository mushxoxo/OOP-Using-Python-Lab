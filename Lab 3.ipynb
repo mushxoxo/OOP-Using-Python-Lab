{
 "cells": [
  {
   "cell_type": "markdown",
   "metadata": {},
   "source": [
    "### 1. Check if a Number is a Disarium Number"
   ]
  },
  {
   "cell_type": "code",
   "execution_count": null,
   "metadata": {},
   "outputs": [],
   "source": [
    "def is_disarium(num):\n",
    "    digits = [int(d) for d in str(num)]\n",
    "    return num == sum(d**(i + 1) for i, d in enumerate(digits))\n",
    "\n",
    "num = int(input(\"Enter a number: \"))\n",
    "print(f\"{num} is a Disarium number.\" if is_disarium(num) else f\"{num} is not a Disarium number.\")\n"
   ]
  },
  {
   "cell_type": "markdown",
   "metadata": {},
   "source": [
    "### 2. Check if a Number is a Harshad Number"
   ]
  },
  {
   "cell_type": "code",
   "execution_count": null,
   "metadata": {},
   "outputs": [],
   "source": [
    "def is_harshad(num):\n",
    "    digit_sum = sum(int(d) for d in str(num))\n",
    "    return num % digit_sum == 0\n",
    "\n",
    "num = int(input(\"Enter a number: \"))\n",
    "print(f\"{num} is a Harshad number.\" if is_harshad(num) else f\"{num} is not a Harshad number.\")\n"
   ]
  },
  {
   "cell_type": "markdown",
   "metadata": {},
   "source": [
    "### 3. Print Armstrong Numbers from 1 to 1000"
   ]
  },
  {
   "cell_type": "code",
   "execution_count": null,
   "metadata": {},
   "outputs": [],
   "source": [
    "def is_armstrong(num):\n",
    "    digits = [int(d) for d in str(num)]\n",
    "    return num == sum(d**len(digits) for d in digits)\n",
    "\n",
    "for i in range(1, 1001):\n",
    "    if is_armstrong(i):\n",
    "        print(i, end=\" \")\n"
   ]
  },
  {
   "cell_type": "markdown",
   "metadata": {},
   "source": [
    "### 4. Compute the Value of 𝑋^𝑛"
   ]
  },
  {
   "cell_type": "code",
   "execution_count": null,
   "metadata": {},
   "outputs": [],
   "source": [
    "def power(x, n):\n",
    "    return x**n\n",
    "\n",
    "x = int(input(\"Enter the base (X): \"))\n",
    "n = int(input(\"Enter the exponent (n): \"))\n",
    "print(f\"{x}^{n} = {power(x, n)}\")\n"
   ]
  },
  {
   "cell_type": "markdown",
   "metadata": {},
   "source": [
    "### 5. Calculate the Value of 𝑛𝐶𝑟"
   ]
  },
  {
   "cell_type": "code",
   "execution_count": null,
   "metadata": {},
   "outputs": [],
   "source": [
    "import math\n",
    "\n",
    "def nCr(n, r):\n",
    "    return math.factorial(n) // (math.factorial(r) * math.factorial(n - r))\n",
    "\n",
    "n = int(input(\"Enter n: \"))\n",
    "r = int(input(\"Enter r: \"))\n",
    "print(f\"nCr({n}, {r}) = {nCr(n, r)}\")\n"
   ]
  },
  {
   "cell_type": "markdown",
   "metadata": {},
   "source": [
    "### 6. Count the Sum of Digits in a Number"
   ]
  },
  {
   "cell_type": "code",
   "execution_count": null,
   "metadata": {},
   "outputs": [],
   "source": [
    "def sum_of_digits(num):\n",
    "    return sum(int(d) for d in str(num))\n",
    "\n",
    "num = int(input(\"Enter a number: \"))\n",
    "print(f\"Sum of digits: {sum_of_digits(num)}\")\n"
   ]
  }
 ],
 "metadata": {
  "kernelspec": {
   "display_name": "Python 3",
   "language": "python",
   "name": "python3"
  },
  "language_info": {
   "name": "python",
   "version": "3.12.3"
  }
 },
 "nbformat": 4,
 "nbformat_minor": 2
}
